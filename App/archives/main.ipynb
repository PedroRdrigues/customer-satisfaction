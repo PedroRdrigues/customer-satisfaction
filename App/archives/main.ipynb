{
 "cells": [
  {
   "cell_type": "markdown",
   "metadata": {},
   "source": [
    "# Projeto de Big Data\n",
    "\n",
    "## Análise de satisfação dos clientes\n",
    "\n",
    "---"
   ]
  },
  {
   "cell_type": "markdown",
   "metadata": {},
   "source": [
    "- ### Criação e exibição da tabela"
   ]
  },
  {
   "cell_type": "code",
   "execution_count": null,
   "metadata": {},
   "outputs": [],
   "source": [
    "# importar o modulo pandas\n",
    "import pandas as pd\n",
    "\n",
    "# Importar planilha em csv e criar DataFrame\n",
    "df = pd.read_csv(\"avaliacaoClientes.csv\")\n",
    "\n",
    "# Exibir DataFrame\n",
    "display(df)\n"
   ]
  },
  {
   "cell_type": "code",
   "execution_count": null,
   "metadata": {},
   "outputs": [],
   "source": [
    "# Deixar apenas as colunas das pergundas\n",
    "perguntasMultiplaEscolha = df.drop(columns=[\"Carimbo de data/hora\", \"Endereço de e-mail\", \"Nome completo\",\"Oque você melhoraria na academia?\"])\n",
    "\n",
    "display(perguntasMultiplaEscolha)"
   ]
  },
  {
   "cell_type": "markdown",
   "metadata": {},
   "source": [
    "- ### Criação dos gráficos / Dashboards das perguntas de multipla escolha"
   ]
  },
  {
   "cell_type": "code",
   "execution_count": null,
   "metadata": {},
   "outputs": [],
   "source": [
    "# Importação do plotly.express para a criação de gráficos do tipo Histograma\n",
    "  # Instalar o nbformat para a utilização da versão mais atual: pip install nbformat\n",
    "import plotly.express as px\n",
    "\n",
    "# Cria um grafico para cada coluna\n",
    "for colunas in perguntasMultiplaEscolha.columns:\n",
    "  grafico = px.histogram(perguntasMultiplaEscolha,x=colunas, color=colunas)\n",
    "  grafico.show()\n",
    "  display(perguntasMultiplaEscolha[colunas].value_counts(normalize=True).map('{:.2%}'.format))\n",
    "  print('\\n')"
   ]
  },
  {
   "cell_type": "markdown",
   "metadata": {},
   "source": [
    "- ### Criar o gráfico da resposta escrita"
   ]
  },
  {
   "cell_type": "code",
   "execution_count": null,
   "metadata": {},
   "outputs": [],
   "source": [
    "perguntaEscrita = df[\"Oque você melhoraria na academia?\"]\n",
    "\n",
    "# Criar gráfico com a relação de cada palavra chave\n",
    "\n",
    "# Inicio dos testes de filtragem\n",
    "contAr = 0\n",
    "for respostas in perguntaEscrita:\n",
    "  contAr += 1\n",
    "  if 'ar condicionado' in respostas.lower() or 'ar-condicionado' in respostas.lower():\n",
    "    print(f\"{contAr} -> {respostas}\")\n",
    "\n"
   ]
  }
 ],
 "metadata": {
  "kernelspec": {
   "display_name": "GYM_venv",
   "language": "python",
   "name": "python3"
  },
  "language_info": {
   "codemirror_mode": {
    "name": "ipython",
    "version": 3
   },
   "file_extension": ".py",
   "mimetype": "text/x-python",
   "name": "python",
   "nbconvert_exporter": "python",
   "pygments_lexer": "ipython3",
   "version": "3.12.0"
  }
 },
 "nbformat": 4,
 "nbformat_minor": 2
}
