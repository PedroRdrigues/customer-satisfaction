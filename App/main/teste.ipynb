{
 "cells": [
  {
   "cell_type": "code",
   "execution_count": 1,
   "metadata": {},
   "outputs": [],
   "source": [
    "from os import path\n",
    "import os.path\n",
    "\n",
    "from google.auth.transport.requests import Request\n",
    "from google.oauth2.credentials import Credentials\n",
    "from google_auth_oauthlib.flow import InstalledAppFlow\n",
    "from googleapiclient.discovery import build\n",
    "from googleapiclient.errors import HttpError\n",
    "\n",
    "# If modifying these scopes, delete the file token.json.\n",
    "SCOPES = [\"https://www.googleapis.com/auth/spreadsheets.readonly\"]\n",
    "\n",
    "# The ID and range of a sample spreadsheet.\n",
    "SAMPLE_SPREADSHEET_ID = \"10z91uk1LeNnFIHiV9UggGw8nGKKLDj5bqqr5zzbNpOQ\"\n",
    "SAMPLE_RANGE_NAME = \"PG1!B:J\"\n",
    "\n",
    "\"\"\"\n",
    "1 - Antes de começar crie uma pasta chamada 'security' e adicione o arquivo de credenciais do Google Cloud.\n",
    "2 - Renomeie o arquivo para credentials.json ou altere o nome do arquivo no código.\n",
    "\"\"\"\n",
    "def main():\n",
    "  creds = None\n",
    "  if os.path.exists(\"security\\\\token.json\"):\n",
    "    creds = Credentials.from_authorized_user_file(\"security\\\\token.json\", SCOPES)\n",
    "  if not creds or not creds.valid:\n",
    "    if creds and creds.expired and creds.refresh_token:\n",
    "      creds.refresh(Request())\n",
    "    else:\n",
    "      flow = InstalledAppFlow.from_client_secrets_file(\n",
    "          \"security\\\\credentials.json\", SCOPES\n",
    "      )\n",
    "      creds = flow.run_local_server(port=0)\n",
    "    with open(\"security\\\\token.json\", \"w\") as token:\n",
    "      token.write(creds.to_json())\n",
    "\n",
    "  try:\n",
    "    service = build(\"sheets\", \"v4\", credentials=creds)\n",
    "\n",
    "    sheet = service.spreadsheets()\n",
    "    result = (\n",
    "        sheet.values()\n",
    "        .get(spreadsheetId=SAMPLE_SPREADSHEET_ID, range=SAMPLE_RANGE_NAME)\n",
    "        .execute()\n",
    "    )\n",
    "    \n",
    "    val = result['values']\n",
    "\n",
    "    if not path.exists('archives'):\n",
    "      os.mkdir('archives')\n",
    "    with open('archives\\\\vals.csv', 'w', encoding='utf-8') as file:\n",
    "      for linha in val:\n",
    "        for valor in linha:\n",
    "          valor = valor.replace(\"R$\", \"\").replace(\".\", \"\").replace(\",\",\".\")\n",
    "          \n",
    "          file.write(f'{valor.replace(\" \", \",\")}')\n",
    "          \n",
    "        file.write('\\n')\n",
    "      \n",
    "  except HttpError as err:\n",
    "    print(err)\n",
    "\n",
    "\n",
    "if __name__ == \"__main__\":\n",
    "  main()"
   ]
  },
  {
   "cell_type": "code",
   "execution_count": null,
   "metadata": {},
   "outputs": [],
   "source": [
    "import pandas as pd \n",
    "\n",
    "df = pd.read_csv('archives\\\\vals.csv')\n",
    "display(df)"
   ]
  },
  {
   "cell_type": "code",
   "execution_count": null,
   "metadata": {},
   "outputs": [],
   "source": [
    "import plotly.express as px # type: ignore\n",
    "meses = df.drop(columns=['dias','total'])\n",
    "\n",
    "for mes in meses:\n",
    "  maiorQueMil = meses.loc[meses[mes] > 540]\n",
    "  print(mes)\n",
    "  grafico = px.histogram(maiorQueMil,x=mes, color=mes)\n",
    "  grafico.show()\n",
    "  # grafico.to_image(f'{mes}.png')"
   ]
  }
 ],
 "metadata": {
  "kernelspec": {
   "display_name": "venv",
   "language": "python",
   "name": "python3"
  },
  "language_info": {
   "codemirror_mode": {
    "name": "ipython",
    "version": 3
   },
   "file_extension": ".py",
   "mimetype": "text/x-python",
   "name": "python",
   "nbconvert_exporter": "python",
   "pygments_lexer": "ipython3",
   "version": "3.12.0"
  }
 },
 "nbformat": 4,
 "nbformat_minor": 2
}
