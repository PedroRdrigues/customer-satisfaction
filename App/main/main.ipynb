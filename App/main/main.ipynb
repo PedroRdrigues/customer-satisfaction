{
 "cells": [
  {
   "cell_type": "markdown",
   "metadata": {},
   "source": [
    "# Projeto de Big Data\n",
    "\n",
    "## Análise de satisfação dos clientes\n",
    "\n",
    "---"
   ]
  },
  {
   "cell_type": "markdown",
   "metadata": {},
   "source": [
    "- ### Instalar todas as bibliotecas usadas\n",
    "\n",
    "    Aconselho criar e ativar uma venv antes de rodar o código"
   ]
  },
  {
   "cell_type": "code",
   "execution_count": null,
   "metadata": {},
   "outputs": [],
   "source": [
    "# !pip3 install pandas plotly nbformat openpyxl\n",
    "# !pip3 install --upgrade google-api-python-client google-auth-httplib2 google-auth-oauthlib"
   ]
  },
  {
   "cell_type": "markdown",
   "metadata": {},
   "source": [
    "- ### Vinculo com o google sheets e criação dos arquivos em .xlsx"
   ]
  },
  {
   "cell_type": "code",
   "execution_count": null,
   "metadata": {},
   "outputs": [],
   "source": [
    "import os.path\n",
    "import openpyxl\n",
    "\n",
    "from google.auth.transport.requests import Request\n",
    "from google.oauth2.credentials import Credentials\n",
    "from google_auth_oauthlib.flow import InstalledAppFlow\n",
    "from googleapiclient.discovery import build\n",
    "from googleapiclient.errors import HttpError\n",
    "\n",
    "\n",
    "# If modifying these scopes, delete the file token.json.\n",
    "SCOPES = [\"https://www.googleapis.com/auth/spreadsheets.readonly\"]\n",
    "\n",
    "# The ID and range of a sample spreadsheet.\n",
    "SAMPLE_SPREADSHEET_ID = \"1TUNcZRjWbSVB5bw-547Tv0bm5JdKzbjjC4GEi2xw27E\"\n",
    "SAMPLE_RANGE_NAME = \"A:M\"\n",
    "\n",
    "\"\"\"\n",
    "1 - Antes de começar crie uma pasta chamada 'security' e adicione o arquivo de credenciais do Google Cloud.\n",
    "2 - Renomeie o arquivo para credentials.json ou altere o nome do arquivo no código.\n",
    "\"\"\"\n",
    "\n",
    "creds = None\n",
    "if os.path.exists(\"security\\\\token.json\"):\n",
    "  creds = Credentials.from_authorized_user_file(\"security\\\\token.json\", SCOPES)\n",
    "if not creds or not creds.valid:\n",
    "  if creds and creds.expired and creds.refresh_token:\n",
    "    creds.refresh(Request())\n",
    "  else:\n",
    "    flow = InstalledAppFlow.from_client_secrets_file(\n",
    "        \"security\\\\credentials.json\", SCOPES\n",
    "    )\n",
    "    creds = flow.run_local_server(port=0)\n",
    "  with open(\"security\\\\token.json\", \"w\") as token:\n",
    "    token.write(creds.to_json())\n",
    "\n",
    "try:\n",
    "  service = build(\"sheets\", \"v4\", credentials=creds)\n",
    "\n",
    "  sheet = service.spreadsheets()\n",
    "  result = (\n",
    "      sheet.values()\n",
    "      .get(spreadsheetId=SAMPLE_SPREADSHEET_ID, range=SAMPLE_RANGE_NAME)\n",
    "      .execute()\n",
    "  )\n",
    "  \n",
    "  val = result['values']\n",
    "  \n",
    "  if not os.path.exists('archives'):\n",
    "    os.mkdir('archives')\n",
    "  \n",
    "  # Criar planilha em excel com base na planilha do google sheets\n",
    "  book = openpyxl.Workbook()\n",
    "  page = book['Sheet']\n",
    "  for linha in val:\n",
    "    linhaCorrigida = list()\n",
    "    for celula in linha:\n",
    "      if celula != '':\n",
    "        linhaCorrigida.append(celula)\n",
    "      \n",
    "    page.append(linhaCorrigida)\n",
    "  \n",
    "  book.save('archives\\\\avaliacaoClientes.xlsx')\n",
    "  \n",
    "except HttpError as err:\n",
    "  print(err)\n"
   ]
  },
  {
   "cell_type": "markdown",
   "metadata": {},
   "source": [
    "- ### Criação e exibição do DataFrame"
   ]
  },
  {
   "cell_type": "code",
   "execution_count": null,
   "metadata": {},
   "outputs": [],
   "source": [
    "# importar o modulo pandas\n",
    "import pandas as pd\n",
    "\n",
<<<<<<< HEAD
    "avaliacaoClientes = pd.read_excel('archives\\\\acaliacaoClentes.xlsx')\n",
    "display(avaliacaoClientes)"
=======
    "df_AvaliacaoClientes = pd.read_excel('archives\\\\avaliacaoClientes.xlsx')\n",
    "display(df_AvaliacaoClientes)"
   ]
  },
  {
   "cell_type": "markdown",
   "metadata": {},
   "source": [
    "- ### Criação da planilha com nomes e respostas discursivas."
   ]
  },
  {
   "cell_type": "code",
   "execution_count": null,
   "metadata": {},
   "outputs": [],
   "source": [
    "respostasPorPessoa = df_AvaliacaoClientes[['Carimbo de data/hora','Nome completo',\n",
    "                                            'Oque você melhoraria na academia?']]\n",
    "\n",
    "display(respostasPorPessoa)\n",
    "respostasPorPessoa.to_excel('archives\\\\respostasPorPessoa.xlsx')"
>>>>>>> dev
   ]
  },
  {
   "cell_type": "markdown",
   "metadata": {},
   "source": [
    "- ### Criação dos gráficos / Dashboards das perguntas de multipla escolha"
   ]
  },
  {
   "cell_type": "code",
   "execution_count": null,
   "metadata": {},
   "outputs": [],
   "source": [
    "# Importação do plotly.express para a criação de gráficos do tipo Histograma\n",
    "  # Instalar o nbformat para a utilização da versão mais atual: pip install nbformat\n",
    "import plotly.express as px\n",
<<<<<<< HEAD
    "df_perguntasObjetivas = avaliacaoClientes.drop(columns=['Carimbo de data/hora','Endereço de e-mail',\n",
    "                                                'Nome completo','Oque você melhoraria na academia?'])\n",
=======
    "df_perguntasObjetivas = df_AvaliacaoClientes.drop(columns=['Carimbo de data/hora','Nome completo',\n",
    "                                                        'Oque você melhoraria na academia?'])\n",
>>>>>>> dev
    "# Cria um grafico para cada coluna\n",
    "for colunas in df_perguntasObjetivas.columns:\n",
    "  grafico = px.histogram(df_perguntasObjetivas,x=colunas, color=colunas)\n",
    "  grafico.show()\n",
    "  display(df_perguntasObjetivas[colunas].value_counts(normalize=True).map('{:.2%}'.format))\n",
    "  print('\\n')\n"
   ]
  }
 ],
 "metadata": {
  "kernelspec": {
   "display_name": "GYM_venv",
   "language": "python",
   "name": "python3"
  },
  "language_info": {
   "codemirror_mode": {
    "name": "ipython",
    "version": 3
   },
   "file_extension": ".py",
   "mimetype": "text/x-python",
   "name": "python",
   "nbconvert_exporter": "python",
   "pygments_lexer": "ipython3",
   "version": "3.12.0"
  }
 },
 "nbformat": 4,
 "nbformat_minor": 2
}
